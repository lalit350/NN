{
 "cells": [
  {
   "cell_type": "code",
   "execution_count": 2,
   "id": "06b787a9",
   "metadata": {},
   "outputs": [
    {
     "name": "stdout",
     "output_type": "stream",
     "text": [
      "Accuracy: 0.850 (0.128)\n"
     ]
    }
   ],
   "source": [
    "from numpy import mean\n",
    "from numpy import std\n",
    "from sklearn.datasets import make_classification\n",
    "from sklearn.model_selection import KFold\n",
    "from sklearn.model_selection import cross_val_score\n",
    "from sklearn.linear_model import LogisticRegression\n",
    "\n",
    "X, y = make_classification(n_samples=100, n_features=20, n_informative=15, n_redundant=5, random_state=1)\n",
    "\n",
    "cv = KFold(n_splits=10, random_state=1, shuffle=True)\n",
    "\n",
    "model = LogisticRegression()\n",
    "\n",
    "scores = cross_val_score(model, X, y, scoring='accuracy', cv=cv, n_jobs=-1)\n",
    "\n",
    "print('Accuracy: %.3f (%.3f)' % (mean(scores), std(scores)))"
   ]
  },
  {
   "cell_type": "code",
   "execution_count": 3,
   "id": "ea4adfcb",
   "metadata": {},
   "outputs": [
    {
     "name": "stdout",
     "output_type": "stream",
     "text": [
      "Ideal: 0.890\n",
      "> folds=2, accuracy=0.890 (0.880,0.900)\n",
      "> folds=3, accuracy=0.890 (0.879,0.912)\n",
      "> folds=4, accuracy=0.910 (0.800,1.000)\n",
      "> folds=5, accuracy=0.900 (0.850,1.000)\n",
      "> folds=6, accuracy=0.900 (0.875,0.941)\n",
      "> folds=7, accuracy=0.899 (0.714,1.000)\n",
      "> folds=8, accuracy=0.900 (0.769,1.000)\n",
      "> folds=9, accuracy=0.909 (0.818,1.000)\n",
      "> folds=10, accuracy=0.880 (0.700,1.000)\n",
      "> folds=11, accuracy=0.879 (0.667,1.000)\n",
      "> folds=12, accuracy=0.891 (0.667,1.000)\n",
      "> folds=13, accuracy=0.891 (0.750,1.000)\n",
      "> folds=14, accuracy=0.879 (0.571,1.000)\n",
      "> folds=15, accuracy=0.881 (0.714,1.000)\n",
      "> folds=16, accuracy=0.879 (0.667,1.000)\n",
      "> folds=17, accuracy=0.892 (0.500,1.000)\n",
      "> folds=18, accuracy=0.891 (0.500,1.000)\n",
      "> folds=19, accuracy=0.888 (0.600,1.000)\n",
      "> folds=20, accuracy=0.880 (0.600,1.000)\n",
      "> folds=21, accuracy=0.881 (0.600,1.000)\n",
      "> folds=22, accuracy=0.893 (0.600,1.000)\n",
      "> folds=23, accuracy=0.893 (0.600,1.000)\n",
      "> folds=24, accuracy=0.888 (0.500,1.000)\n",
      "> folds=25, accuracy=0.890 (0.500,1.000)\n",
      "> folds=26, accuracy=0.891 (0.500,1.000)\n",
      "> folds=27, accuracy=0.892 (0.500,1.000)\n",
      "> folds=28, accuracy=0.881 (0.500,1.000)\n",
      "> folds=29, accuracy=0.882 (0.500,1.000)\n",
      "> folds=30, accuracy=0.883 (0.500,1.000)\n",
      "> folds=31, accuracy=0.879 (0.333,1.000)\n",
      "> folds=32, accuracy=0.878 (0.333,1.000)\n",
      "> folds=33, accuracy=0.879 (0.333,1.000)\n",
      "> folds=34, accuracy=0.902 (0.333,1.000)\n",
      "> folds=35, accuracy=0.905 (0.333,1.000)\n",
      "> folds=36, accuracy=0.898 (0.333,1.000)\n",
      "> folds=37, accuracy=0.901 (0.333,1.000)\n",
      "> folds=38, accuracy=0.904 (0.333,1.000)\n",
      "> folds=39, accuracy=0.889 (0.333,1.000)\n",
      "> folds=40, accuracy=0.892 (0.333,1.000)\n",
      "> folds=41, accuracy=0.894 (0.333,1.000)\n",
      "> folds=42, accuracy=0.893 (0.333,1.000)\n",
      "> folds=43, accuracy=0.891 (0.333,1.000)\n",
      "> folds=44, accuracy=0.894 (0.333,1.000)\n",
      "> folds=45, accuracy=0.885 (0.500,1.000)\n",
      "> folds=46, accuracy=0.884 (0.500,1.000)\n",
      "> folds=47, accuracy=0.887 (0.500,1.000)\n",
      "> folds=48, accuracy=0.889 (0.500,1.000)\n",
      "> folds=49, accuracy=0.898 (0.500,1.000)\n",
      "> folds=50, accuracy=0.900 (0.500,1.000)\n",
      "> folds=51, accuracy=0.902 (0.500,1.000)\n"
     ]
    },
    {
     "data": {
      "image/png": "[encoded data removed]",
      "text/plain": [
       "<Figure size 640x480 with 1 Axes>"
      ]
     },
     "metadata": {},
     "output_type": "display_data"
    }
   ],
   "source": [
    "from numpy import mean\n",
    "from sklearn.datasets import make_classification\n",
    "from sklearn.model_selection import LeaveOneOut\n",
    "from sklearn.model_selection import KFold\n",
    "from sklearn.model_selection import cross_val_score\n",
    "from sklearn.linear_model import LogisticRegression\n",
    "from matplotlib import pyplot\n",
    " \n",
    "\n",
    "def get_dataset(n_samples=100):\n",
    " X, y = make_classification(n_samples=n_samples, n_features=7, n_informative=5, n_redundant=2, random_state=1)\n",
    " return X, y\n",
    " \n",
    "\n",
    "def get_model():\n",
    "    model = LogisticRegression()\n",
    "    return model\n",
    " \n",
    "\n",
    "def evaluate_model(cv):\n",
    "\n",
    "    X, y = get_dataset()\n",
    " \n",
    "    model = get_model()\n",
    " \n",
    "    scores = cross_val_score(model, X, y, scoring='accuracy', cv=cv, n_jobs=-1)\n",
    " \n",
    "    return mean(scores), scores.min(), scores.max()\n",
    " \n",
    "\n",
    "ideal, _, _ = evaluate_model(LeaveOneOut())\n",
    "print('Ideal: %.3f' % ideal)\n",
    "\n",
    "folds = range(2,52)\n",
    "\n",
    "means, mins, maxs = list(),list(),list()\n",
    "\n",
    "for k in folds:\n",
    " \n",
    " cv = KFold(n_splits=k, shuffle=True, random_state=1)\n",
    " \n",
    " k_mean, k_min, k_max = evaluate_model(cv)\n",
    " \n",
    " print('> folds=%d, accuracy=%.3f (%.3f,%.3f)' % (k, k_mean, k_min, k_max))\n",
    " \n",
    " means.append(k_mean)\n",
    " \n",
    " mins.append(k_mean - k_min)\n",
    " maxs.append(k_max - k_mean)\n",
    "\n",
    "pyplot.errorbar(folds, means, yerr=[mins, maxs], fmt='o')\n",
    "\n",
    "pyplot.plot(folds, [ideal for _ in range(len(folds))], color='r')\n",
    "\n",
    "pyplot.show()"
   ]
  },
  {
   "cell_type": "code",
   "execution_count": null,
   "id": "4fc2eabe",
   "metadata": {},
   "outputs": [],
   "source": []
  },
  {
   "cell_type": "code",
   "execution_count": null,
   "id": "6059bbda",
   "metadata": {},
   "outputs": [],
   "source": []
  },
  {
   "cell_type": "code",
   "execution_count": null,
   "id": "df5c01d5",
   "metadata": {},
   "outputs": [],
   "source": []
  },
  {
   "cell_type": "code",
   "execution_count": null,
   "id": "3bac7a21",
   "metadata": {},
   "outputs": [],
   "source": []
  },
  {
   "cell_type": "code",
   "execution_count": null,
   "id": "bba34581",
   "metadata": {},
   "outputs": [],
   "source": []
  },
  {
   "cell_type": "code",
   "execution_count": null,
   "id": "43f037f2",
   "metadata": {},
   "outputs": [],
   "source": []
  },
  {
   "cell_type": "code",
   "execution_count": null,
   "id": "97e868d6",
   "metadata": {},
   "outputs": [],
   "source": []
  },
  {
   "cell_type": "code",
   "execution_count": 1,
   "id": "211bd9c2",
   "metadata": {},
   "outputs": [
    {
     "name": "stderr",
     "output_type": "stream",
     "text": [
      "C:\\Users\\Lalit\\anaconda3\\Lib\\site-packages\\sklearn\\neural_network\\_multilayer_perceptron.py:691: ConvergenceWarning: Stochastic Optimizer: Maximum iterations (1000) reached and the optimization hasn't converged yet.\n",
      "  warnings.warn(\n"
     ]
    },
    {
     "name": "stdout",
     "output_type": "stream",
     "text": [
      "Fold 1 Accuracy: 1.0\n",
      "Fold 2 Accuracy: 0.5\n",
      "Fold 3 Accuracy: 0.5\n",
      "Fold 4 Accuracy: 1.0\n",
      "Fold 5 Accuracy: 0.5\n",
      "\n",
      "Average Accuracy: 0.7\n"
     ]
    }
   ],
   "source": [
    "from sklearn.neural_network import MLPClassifier\n",
    "from sklearn.model_selection import KFold\n",
    "from sklearn.metrics import accuracy_score\n",
    "import numpy as np\n",
    "import pandas as pd\n",
    "\n",
    "# Load data\n",
    "data = pd.read_csv(\"https://raw.githubusercontent.com/infiniaclub/NeuralNetworkDataset/main/job.csv\")\n",
    "\n",
    "# Separate features and target\n",
    "X = data.drop(columns=['hire'])\n",
    "y = data['hire']\n",
    "\n",
    "# Initialize network\n",
    "mlp = MLPClassifier(hidden_layer_sizes=(10, 10), activation='relu', solver='adam',\n",
    "                    alpha=1e-5, learning_rate_init=0.001, max_iter=1000)\n",
    "\n",
    "# Initialize KFold\n",
    "kf = KFold(n_splits=5, shuffle=True, random_state=42)\n",
    "\n",
    "#store accuracy\n",
    "accuracy_scores = []\n",
    "\n",
    "# Perform KFold\n",
    "for train_index, test_index in kf.split(X):\n",
    "    X_train, X_test = X.iloc[train_index], X.iloc[test_index]  # Access rows using iloc\n",
    "    y_train, y_test = y.iloc[train_index], y.iloc[test_index]  # Access rows using iloc\n",
    "    # Train MLP classifier\n",
    "    mlp.fit(X_train, y_train)\n",
    "    # Predict on the test set\n",
    "    y_pred = mlp.predict(X_test)\n",
    "    # Calculate accuracy and store it\n",
    "    accuracy = accuracy_score(y_test, y_pred)\n",
    "    accuracy_scores.append(accuracy)\n",
    "\n",
    "# Print accuracy scores for each fold\n",
    "for i, accuracy in enumerate(accuracy_scores):\n",
    "    print(f\"Fold {i+1} Accuracy: {accuracy}\")\n",
    "\n",
    "# average accuracy\n",
    "average_accuracy = np.mean(accuracy_scores)\n",
    "print(f\"\\nAverage Accuracy: {average_accuracy}\")"
   ]
  }
 ],
 "metadata": {
  "kernelspec": {
   "display_name": "Python 3 (ipykernel)",
   "language": "python",
   "name": "python3"
  },
  "language_info": {
   "codemirror_mode": {
    "name": "ipython",
    "version": 3
   },
   "file_extension": ".py",
   "mimetype": "text/x-python",
   "name": "python",
   "nbconvert_exporter": "python",
   "pygments_lexer": "ipython3",
   "version": "3.11.5"
  }
 },
 "nbformat": 4,
 "nbformat_minor": 5
}
