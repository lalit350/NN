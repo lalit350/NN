{
 "cells": [
  {
   "cell_type": "code",
   "execution_count": 17,
   "id": "df08f7b1-41cd-438e-bd79-0828ea28d010",
   "metadata": {},
   "outputs": [
    {
     "ename": "SyntaxError",
     "evalue": "expression cannot contain assignment, perhaps you meant \"==\"? (339876710.py, line 17)",
     "output_type": "error",
     "traceback": [
      "\u001b[1;36m  Cell \u001b[1;32mIn[17], line 17\u001b[1;36m\u001b[0m\n\u001b[1;33m    model.add(Dense(12,input(shape)=(8,),activation='relu'))\u001b[0m\n\u001b[1;37m                       ^\u001b[0m\n\u001b[1;31mSyntaxError\u001b[0m\u001b[1;31m:\u001b[0m expression cannot contain assignment, perhaps you meant \"==\"?\n"
     ]
    }
   ],
   "source": [
    "import numpy as np \n",
    "import pandas as pd\n",
    "from tensorflow.keras.models import Sequential\n",
    "from tensorflow.keras.layers import Dense\n",
    "from sklearn.model_selection import train_test_split\n",
    "from sklearn.metrics import accuracy_score\n",
    "\n",
    "df=pd.read_csv('diabetes.csv')\n",
    "\n",
    "x=df.drop('Outcome',axis=1)\n",
    "y=df.Outcome\n",
    "x.head()\n",
    "y.head()\n",
    "\n",
    "\n",
    "X_test,X_train,y_test,y_train=train_test_split(x,y,test_size=0.2)\n",
    "model=Sequential()\n",
    "model.add(Dense(12,input_shape=(8,),activation='relu'))\n",
    "model.add(Dense(8,activation='relu'))\n",
    "model.add(Dense(1,activation='sigmoid'))\n",
    "\n",
    "model.compile(loss='binary_crossentropy',optimizer='adam',metrics=['accuracy'])\n",
    "model.fit(X_train,y_train,epochs=40,batch_size=10)\n",
    "\n",
    "y_pred=model.predict(X_test)\n",
    "y_pred_binary=np.where(y_pred>0.5,1,0)\n",
    "accuracy1=accuracy_score(y_test,y_pred_binary)\n",
    "print(accuracy1)"
   ]
  },
  {
   "cell_type": "code",
   "execution_count": 15,
   "id": "b5a41075-d909-4739-8525-0223d1212de5",
   "metadata": {},
   "outputs": [
    {
     "data": {
      "text/plain": [
       "0    1\n",
       "1    0\n",
       "2    1\n",
       "3    0\n",
       "4    1\n",
       "Name: Outcome, dtype: int64"
      ]
     },
     "execution_count": 15,
     "metadata": {},
     "output_type": "execute_result"
    }
   ],
   "source": [
    "import numpy as np\n",
    "import pandas as pd\n",
    "from tensorflow.keras.models import Sequential\n",
    "from tensorflow.keras.layers import Dense\n",
    "from sklearn.model_selection import train_test_split\n",
    "from sklearn.metrics import accuracy_score\n",
    "\n",
    "df = pd.read_csv(\"C:/Users/APEKSHA/OneDrive/Tài liệu/diabetes.csv\")\n",
    "\n",
    "X = df.drop(\"Outcome\", axis =1)\n",
    "Y = df.Outcome\n",
    "X.head()\n",
    "Y.head()\n",
    "\n",
    "model = Sequential()\n",
    "model.add(Dense())"
   ]
  },
  {
   "cell_type": "code",
   "execution_count": null,
   "id": "4c10acdf-6eb7-449a-b494-638fcaa5c2b3",
   "metadata": {},
   "outputs": [],
   "source": []
  }
 ],
 "metadata": {
  "kernelspec": {
   "display_name": "Python 3 (ipykernel)",
   "language": "python",
   "name": "python3"
  },
  "language_info": {
   "codemirror_mode": {
    "name": "ipython",
    "version": 3
   },
   "file_extension": ".py",
   "mimetype": "text/x-python",
   "name": "python",
   "nbconvert_exporter": "python",
   "pygments_lexer": "ipython3",
   "version": "3.11.5"
  }
 },
 "nbformat": 4,
 "nbformat_minor": 5
}
