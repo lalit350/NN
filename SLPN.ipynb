{
 "cells": [
  {
   "cell_type": "code",
   "execution_count": 2,
   "id": "71a4b8c0",
   "metadata": {},
   "outputs": [
    {
     "name": "stdout",
     "output_type": "stream",
     "text": [
      "Expected=1, Predicted=1\n"
     ]
    }
   ],
   "source": [
    "def predict(row, weights):  \n",
    "\n",
    "    activation = weights[0]  \n",
    "\n",
    "    for i in range(len(row)-1):  \n",
    "\n",
    "        activation +=weights[i+1]*row[i]  \n",
    "\n",
    "    return 1.0 if activation >= 0.0 else 0.0      \n",
    "\n",
    "  \n",
    "\n",
    "dataset = [[2.7810836,2.550537003,0],  \n",
    "\n",
    "[1.465489372,2.362125076,0],  \n",
    "\n",
    "[3.396561688,4.400293529,0],  \n",
    "\n",
    "[1.38807019,1.850220317,0],  \n",
    "\n",
    "[3.06407232,3.005305973,0],  \n",
    "\n",
    "[7.627531214,2.759262235,1],  \n",
    "\n",
    "[5.332441248,2.088626775,1],  \n",
    "\n",
    "[6.922596716,1.77106367,1],  \n",
    "\n",
    "[8.675418651,-0.242068655,1],  \n",
    "\n",
    "[7.673756466,3.508563011,1]]  \n",
    "\n",
    "  \n",
    "\n",
    "weights = [-0.1, 0.20653640140000007, -0.23418117710000003]  \n",
    "\n",
    "weights = [7, 18, 45]  \n",
    "\n",
    "  \n",
    "\n",
    "for row in dataset:  \n",
    "\n",
    "    prediction = predict(row, weights)  \n",
    "\n",
    "print(\"Expected=%d, Predicted=%d\" % (row[-1], prediction))  \n",
    "  "
   ]
  },
  {
   "cell_type": "code",
   "execution_count": 3,
   "id": "a1201f28",
   "metadata": {},
   "outputs": [
    {
     "name": "stdout",
     "output_type": "stream",
     "text": [
      ">epoch=0, lrate=0.100, error=2.000\n",
      ">epoch=1, lrate=0.100, error=1.000\n",
      ">epoch=2, lrate=0.100, error=0.000\n",
      ">epoch=3, lrate=0.100, error=0.000\n",
      ">epoch=4, lrate=0.100, error=0.000\n",
      "[-0.1, 0.20653640140000007, -0.23418117710000003]\n"
     ]
    }
   ],
   "source": [
    "def train_weights(train, l_rate, n_epoch):  \n",
    "\n",
    "        weights = [0.0 for i in range(len(train[0]))]  \n",
    "\n",
    "        for epoch in range(n_epoch):  \n",
    "\n",
    "            sum_error = 0.0  \n",
    "\n",
    "            for row in train:  \n",
    "\n",
    "                prediction = predict(row, weights)  \n",
    "\n",
    "                error = row[-1] - prediction  # row[-1] prediction is actual and pridect  \n",
    "\n",
    "                sum_error += error**2  \n",
    "\n",
    "                weights[0] = weights[0] + l_rate * error  \n",
    "\n",
    "                for i in range(len(row)-1):  \n",
    "\n",
    "                    weights[i + 1] = weights[i + 1] + l_rate * error * row[i]  \n",
    "\n",
    "            print('>epoch=%d, lrate=%.3f, error=%.3f' % (epoch, l_rate, sum_error))  \n",
    "\n",
    "        return weights  \n",
    "\n",
    "  \n",
    "\n",
    "dataset = [[2.7810836,2.550537003,0],  \n",
    "\n",
    "[1.465489372,2.362125076,0],  \n",
    "\n",
    "[3.396561688,4.400293529,0],  \n",
    "\n",
    "[1.38807019,1.850220317,0],  \n",
    "\n",
    "[3.06407232,3.005305973,0],  \n",
    "\n",
    "[7.627531214,2.759262235,1],  \n",
    "\n",
    "[5.332441248,2.088626775,1],  \n",
    "\n",
    "[6.922596716,1.77106367,1],  \n",
    "\n",
    "[8.675418651,-0.242068655,1],  \n",
    "\n",
    "[7.673756466,3.508563011,1]]  \n",
    "\n",
    "l_rate = 0.1  \n",
    "\n",
    "n_epoch = 5  \n",
    "\n",
    "weights = train_weights(dataset, l_rate, n_epoch)  \n",
    "\n",
    "print(weights)  \n"
   ]
  },
  {
   "cell_type": "code",
   "execution_count": null,
   "id": "e66c9b71",
   "metadata": {},
   "outputs": [],
   "source": []
  }
 ],
 "metadata": {
  "kernelspec": {
   "display_name": "Python 3 (ipykernel)",
   "language": "python",
   "name": "python3"
  },
  "language_info": {
   "codemirror_mode": {
    "name": "ipython",
    "version": 3
   },
   "file_extension": ".py",
   "mimetype": "text/x-python",
   "name": "python",
   "nbconvert_exporter": "python",
   "pygments_lexer": "ipython3",
   "version": "3.11.5"
  }
 },
 "nbformat": 4,
 "nbformat_minor": 5
}
