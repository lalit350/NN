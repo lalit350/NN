{
 "cells": [
  {
   "cell_type": "code",
   "execution_count": 1,
   "metadata": {},
   "outputs": [
    {
     "name": "stdout",
     "output_type": "stream",
     "text": [
      "Requirement already satisfied: scikit-learn in c:\\users\\fiza\\appdata\\local\\programs\\python\\python311\\lib\\site-packages (1.2.2)\n",
      "Collecting scikit-learn\n",
      "  Downloading scikit_learn-1.4.2-cp311-cp311-win_amd64.whl.metadata (11 kB)\n",
      "Requirement already satisfied: numpy>=1.19.5 in c:\\users\\fiza\\appdata\\local\\programs\\python\\python311\\lib\\site-packages (from scikit-learn) (1.24.2)\n",
      "Requirement already satisfied: scipy>=1.6.0 in c:\\users\\fiza\\appdata\\local\\programs\\python\\python311\\lib\\site-packages (from scikit-learn) (1.10.1)\n",
      "Requirement already satisfied: joblib>=1.2.0 in c:\\users\\fiza\\appdata\\local\\programs\\python\\python311\\lib\\site-packages (from scikit-learn) (1.2.0)\n",
      "Requirement already satisfied: threadpoolctl>=2.0.0 in c:\\users\\fiza\\appdata\\local\\programs\\python\\python311\\lib\\site-packages (from scikit-learn) (3.1.0)\n",
      "Downloading scikit_learn-1.4.2-cp311-cp311-win_amd64.whl (10.6 MB)\n",
      "   ---------------------------------------- 0.0/10.6 MB ? eta -:--:--\n",
      "   --- ------------------------------------ 1.0/10.6 MB 20.5 MB/s eta 0:00:01\n",
      "   ------ --------------------------------- 1.6/10.6 MB 17.3 MB/s eta 0:00:01\n",
      "   ------- -------------------------------- 1.9/10.6 MB 13.5 MB/s eta 0:00:01\n",
      "   -------- ------------------------------- 2.2/10.6 MB 11.5 MB/s eta 0:00:01\n",
      "   -------- ------------------------------- 2.3/10.6 MB 11.2 MB/s eta 0:00:01\n",
      "   -------- ------------------------------- 2.3/10.6 MB 11.2 MB/s eta 0:00:01\n",
      "   -------- ------------------------------- 2.3/10.6 MB 11.2 MB/s eta 0:00:01\n",
      "   -------- ------------------------------- 2.3/10.6 MB 11.2 MB/s eta 0:00:01\n",
      "   -------- ------------------------------- 2.3/10.6 MB 5.5 MB/s eta 0:00:02\n",
      "   ---------- ----------------------------- 2.9/10.6 MB 6.1 MB/s eta 0:00:02\n",
      "   -------------- ------------------------- 3.9/10.6 MB 7.5 MB/s eta 0:00:01\n",
      "   --------------- ------------------------ 4.2/10.6 MB 7.5 MB/s eta 0:00:01\n",
      "   ----------------- ---------------------- 4.6/10.6 MB 7.5 MB/s eta 0:00:01\n",
      "   ----------------- ---------------------- 4.6/10.6 MB 7.0 MB/s eta 0:00:01\n",
      "   ------------------- -------------------- 5.1/10.6 MB 7.2 MB/s eta 0:00:01\n",
      "   -------------------- ------------------- 5.4/10.6 MB 7.2 MB/s eta 0:00:01\n",
      "   --------------------- ------------------ 5.6/10.6 MB 7.1 MB/s eta 0:00:01\n",
      "   ---------------------- ----------------- 5.9/10.6 MB 7.0 MB/s eta 0:00:01\n",
      "   ----------------------- ---------------- 6.2/10.6 MB 6.9 MB/s eta 0:00:01\n",
      "   ----------------------- ---------------- 6.3/10.6 MB 6.7 MB/s eta 0:00:01\n",
      "   ------------------------ --------------- 6.5/10.6 MB 6.5 MB/s eta 0:00:01\n",
      "   ------------------------- -------------- 6.6/10.6 MB 6.4 MB/s eta 0:00:01\n",
      "   ------------------------- -------------- 6.8/10.6 MB 6.3 MB/s eta 0:00:01\n",
      "   -------------------------- ------------- 7.1/10.6 MB 6.3 MB/s eta 0:00:01\n",
      "   ---------------------------- ----------- 7.4/10.6 MB 6.3 MB/s eta 0:00:01\n",
      "   ----------------------------- ---------- 7.7/10.6 MB 6.3 MB/s eta 0:00:01\n",
      "   ------------------------------ --------- 8.1/10.6 MB 6.4 MB/s eta 0:00:01\n",
      "   -------------------------------- ------- 8.5/10.6 MB 6.5 MB/s eta 0:00:01\n",
      "   -------------------------------- ------- 8.7/10.6 MB 6.5 MB/s eta 0:00:01\n",
      "   -------------------------------- ------- 8.7/10.6 MB 6.5 MB/s eta 0:00:01\n",
      "   -------------------------------- ------- 8.7/10.6 MB 6.5 MB/s eta 0:00:01\n",
      "   -------------------------------- ------- 8.7/10.6 MB 6.5 MB/s eta 0:00:01\n",
      "   -------------------------------- ------- 8.7/10.6 MB 6.5 MB/s eta 0:00:01\n",
      "   --------------------------------- ------ 8.8/10.6 MB 5.5 MB/s eta 0:00:01\n",
      "   ---------------------------------- ----- 9.1/10.6 MB 5.5 MB/s eta 0:00:01\n",
      "   ----------------------------------- ---- 9.5/10.6 MB 5.6 MB/s eta 0:00:01\n",
      "   ------------------------------------- -- 10.0/10.6 MB 5.8 MB/s eta 0:00:01\n",
      "   ---------------------------------------  10.6/10.6 MB 5.9 MB/s eta 0:00:01\n",
      "   ---------------------------------------- 10.6/10.6 MB 5.7 MB/s eta 0:00:00\n",
      "Installing collected packages: scikit-learn\n",
      "  Attempting uninstall: scikit-learn\n",
      "    Found existing installation: scikit-learn 1.2.2\n",
      "    Uninstalling scikit-learn-1.2.2:\n",
      "      Successfully uninstalled scikit-learn-1.2.2\n",
      "Successfully installed scikit-learn-1.4.2\n"
     ]
    },
    {
     "name": "stderr",
     "output_type": "stream",
     "text": [
      "\n",
      "[notice] A new release of pip is available: 23.3.2 -> 24.0\n",
      "[notice] To update, run: python.exe -m pip install --upgrade pip\n"
     ]
    }
   ],
   "source": [
    "!pip install -U scikit-learn"
   ]
  },
  {
   "cell_type": "code",
   "execution_count": 2,
   "metadata": {},
   "outputs": [],
   "source": [
    "import math\n",
    "import pandas as pd\n",
    "from sklearn.preprocessing import LabelEncoder\n",
    "from sklearn.preprocessing import StandardScaler\n",
    "from sklearn.model_selection import train_test_split\n",
    "from sklearn.metrics import accuracy_score\n",
    "from sklearn.cluster import KMeans\n",
    "import numpy as numpy "
   ]
  },
  {
   "cell_type": "code",
   "execution_count": 7,
   "metadata": {},
   "outputs": [
    {
     "ename": "KeyError",
     "evalue": "\"None of [Index(['age', 'balance', 'day', 'duration', 'campaign', 'pdays', 'previous'], dtype='object')] are in the [columns]\"",
     "output_type": "error",
     "traceback": [
      "\u001b[1;31m---------------------------------------------------------------------------\u001b[0m",
      "\u001b[1;31mKeyError\u001b[0m                                  Traceback (most recent call last)",
      "Cell \u001b[1;32mIn[7], line 6\u001b[0m\n\u001b[0;32m      4\u001b[0m Data\u001b[38;5;241m=\u001b[39m pd\u001b[38;5;241m.\u001b[39mread_csv(\u001b[38;5;124m\"\u001b[39m\u001b[38;5;124mbank.csv\u001b[39m\u001b[38;5;124m\"\u001b[39m)\n\u001b[0;32m      5\u001b[0m cols\u001b[38;5;241m=\u001b[39m [\u001b[38;5;124m\"\u001b[39m\u001b[38;5;124mage\u001b[39m\u001b[38;5;124m\"\u001b[39m,\u001b[38;5;124m\"\u001b[39m\u001b[38;5;124mbalance\u001b[39m\u001b[38;5;124m\"\u001b[39m,\u001b[38;5;124m\"\u001b[39m\u001b[38;5;124mday\u001b[39m\u001b[38;5;124m\"\u001b[39m,\u001b[38;5;124m\"\u001b[39m\u001b[38;5;124mduration\u001b[39m\u001b[38;5;124m\"\u001b[39m,\u001b[38;5;124m\"\u001b[39m\u001b[38;5;124mcampaign\u001b[39m\u001b[38;5;124m\"\u001b[39m,\u001b[38;5;124m\"\u001b[39m\u001b[38;5;124mpdays\u001b[39m\u001b[38;5;124m\"\u001b[39m,\u001b[38;5;124m\"\u001b[39m\u001b[38;5;124mprevious\u001b[39m\u001b[38;5;124m\"\u001b[39m]\n\u001b[1;32m----> 6\u001b[0m df \u001b[38;5;241m=\u001b[39m \u001b[43mData\u001b[49m\u001b[43m[\u001b[49m\u001b[43mcols\u001b[49m\u001b[43m]\u001b[49m\n\u001b[0;32m      7\u001b[0m data_encode\u001b[38;5;241m=\u001b[39m Data\u001b[38;5;241m.\u001b[39mdrop(cols, axis\u001b[38;5;241m=\u001b[39m \u001b[38;5;241m1\u001b[39m)\n\u001b[0;32m      8\u001b[0m data_encode\u001b[38;5;241m=\u001b[39m data_encode\u001b[38;5;241m.\u001b[39mapply(LabelEncoder()\u001b[38;5;241m.\u001b[39mfit_transform)\n",
      "File \u001b[1;32m~\\AppData\\Local\\Programs\\Python\\Python311\\Lib\\site-packages\\pandas\\core\\frame.py:3767\u001b[0m, in \u001b[0;36mDataFrame.__getitem__\u001b[1;34m(self, key)\u001b[0m\n\u001b[0;32m   3765\u001b[0m     \u001b[38;5;28;01mif\u001b[39;00m is_iterator(key):\n\u001b[0;32m   3766\u001b[0m         key \u001b[38;5;241m=\u001b[39m \u001b[38;5;28mlist\u001b[39m(key)\n\u001b[1;32m-> 3767\u001b[0m     indexer \u001b[38;5;241m=\u001b[39m \u001b[38;5;28;43mself\u001b[39;49m\u001b[38;5;241;43m.\u001b[39;49m\u001b[43mcolumns\u001b[49m\u001b[38;5;241;43m.\u001b[39;49m\u001b[43m_get_indexer_strict\u001b[49m\u001b[43m(\u001b[49m\u001b[43mkey\u001b[49m\u001b[43m,\u001b[49m\u001b[43m \u001b[49m\u001b[38;5;124;43m\"\u001b[39;49m\u001b[38;5;124;43mcolumns\u001b[39;49m\u001b[38;5;124;43m\"\u001b[39;49m\u001b[43m)\u001b[49m[\u001b[38;5;241m1\u001b[39m]\n\u001b[0;32m   3769\u001b[0m \u001b[38;5;66;03m# take() does not accept boolean indexers\u001b[39;00m\n\u001b[0;32m   3770\u001b[0m \u001b[38;5;28;01mif\u001b[39;00m \u001b[38;5;28mgetattr\u001b[39m(indexer, \u001b[38;5;124m\"\u001b[39m\u001b[38;5;124mdtype\u001b[39m\u001b[38;5;124m\"\u001b[39m, \u001b[38;5;28;01mNone\u001b[39;00m) \u001b[38;5;241m==\u001b[39m \u001b[38;5;28mbool\u001b[39m:\n",
      "File \u001b[1;32m~\\AppData\\Local\\Programs\\Python\\Python311\\Lib\\site-packages\\pandas\\core\\indexes\\base.py:5876\u001b[0m, in \u001b[0;36mIndex._get_indexer_strict\u001b[1;34m(self, key, axis_name)\u001b[0m\n\u001b[0;32m   5873\u001b[0m \u001b[38;5;28;01melse\u001b[39;00m:\n\u001b[0;32m   5874\u001b[0m     keyarr, indexer, new_indexer \u001b[38;5;241m=\u001b[39m \u001b[38;5;28mself\u001b[39m\u001b[38;5;241m.\u001b[39m_reindex_non_unique(keyarr)\n\u001b[1;32m-> 5876\u001b[0m \u001b[38;5;28;43mself\u001b[39;49m\u001b[38;5;241;43m.\u001b[39;49m\u001b[43m_raise_if_missing\u001b[49m\u001b[43m(\u001b[49m\u001b[43mkeyarr\u001b[49m\u001b[43m,\u001b[49m\u001b[43m \u001b[49m\u001b[43mindexer\u001b[49m\u001b[43m,\u001b[49m\u001b[43m \u001b[49m\u001b[43maxis_name\u001b[49m\u001b[43m)\u001b[49m\n\u001b[0;32m   5878\u001b[0m keyarr \u001b[38;5;241m=\u001b[39m \u001b[38;5;28mself\u001b[39m\u001b[38;5;241m.\u001b[39mtake(indexer)\n\u001b[0;32m   5879\u001b[0m \u001b[38;5;28;01mif\u001b[39;00m \u001b[38;5;28misinstance\u001b[39m(key, Index):\n\u001b[0;32m   5880\u001b[0m     \u001b[38;5;66;03m# GH 42790 - Preserve name from an Index\u001b[39;00m\n",
      "File \u001b[1;32m~\\AppData\\Local\\Programs\\Python\\Python311\\Lib\\site-packages\\pandas\\core\\indexes\\base.py:5935\u001b[0m, in \u001b[0;36mIndex._raise_if_missing\u001b[1;34m(self, key, indexer, axis_name)\u001b[0m\n\u001b[0;32m   5933\u001b[0m     \u001b[38;5;28;01mif\u001b[39;00m use_interval_msg:\n\u001b[0;32m   5934\u001b[0m         key \u001b[38;5;241m=\u001b[39m \u001b[38;5;28mlist\u001b[39m(key)\n\u001b[1;32m-> 5935\u001b[0m     \u001b[38;5;28;01mraise\u001b[39;00m \u001b[38;5;167;01mKeyError\u001b[39;00m(\u001b[38;5;124mf\u001b[39m\u001b[38;5;124m\"\u001b[39m\u001b[38;5;124mNone of [\u001b[39m\u001b[38;5;132;01m{\u001b[39;00mkey\u001b[38;5;132;01m}\u001b[39;00m\u001b[38;5;124m] are in the [\u001b[39m\u001b[38;5;132;01m{\u001b[39;00maxis_name\u001b[38;5;132;01m}\u001b[39;00m\u001b[38;5;124m]\u001b[39m\u001b[38;5;124m\"\u001b[39m)\n\u001b[0;32m   5937\u001b[0m not_found \u001b[38;5;241m=\u001b[39m \u001b[38;5;28mlist\u001b[39m(ensure_index(key)[missing_mask\u001b[38;5;241m.\u001b[39mnonzero()[\u001b[38;5;241m0\u001b[39m]]\u001b[38;5;241m.\u001b[39munique())\n\u001b[0;32m   5938\u001b[0m \u001b[38;5;28;01mraise\u001b[39;00m \u001b[38;5;167;01mKeyError\u001b[39;00m(\u001b[38;5;124mf\u001b[39m\u001b[38;5;124m\"\u001b[39m\u001b[38;5;132;01m{\u001b[39;00mnot_found\u001b[38;5;132;01m}\u001b[39;00m\u001b[38;5;124m not in index\u001b[39m\u001b[38;5;124m\"\u001b[39m)\n",
      "\u001b[1;31mKeyError\u001b[0m: \"None of [Index(['age', 'balance', 'day', 'duration', 'campaign', 'pdays', 'previous'], dtype='object')] are in the [columns]\""
     ]
    }
   ],
   "source": [
    "#Data = pd.read_csv(\"xor.csv\")\n",
    "#Data.head()\n",
    "\n",
    "Data= pd.dataframe"
   ]
  },
  {
   "cell_type": "code",
   "execution_count": 43,
   "metadata": {},
   "outputs": [],
   "source": [
    "data_train, data_test = train_test_split(Data, test_size = 0.5, random_state = 4)\n",
    "#data_train = Data\n",
    "#data_test = Data\n",
    "x_train = data_train.drop(\"y\", axis = 1)\n",
    "y_train = data_train[\"y\"]\n",
    "x_test = data_test.drop(\"y\", axis = 1)\n",
    "y_test = data_test[\"y\"]\n",
    "#x_train.head()\n",
    "\n",
    "scaler= StandardScaler()\n",
    "scaler.fit(x_train)\n",
    "x_train= scaler.transform(x_train)\n",
    "x_test= scaler.transform(x_test)"
   ]
  },
  {
   "cell_type": "code",
   "execution_count": 42,
   "metadata": {},
   "outputs": [],
   "source": [
    "#K_cent = 4\n",
    "K_cent = 8\n",
    "km = KMeans(n_clusters = K_cent, max_iter= 100)\n",
    "km.fit(x_train)\n",
    "cent = km.cluster_centers_"
   ]
  },
  {
   "cell_type": "code",
   "execution_count": 27,
   "metadata": {},
   "outputs": [
    {
     "name": "stdout",
     "output_type": "stream",
     "text": [
      "2.3008039704690626\n"
     ]
    }
   ],
   "source": [
    "max = 0\n",
    "for i in range(K_cent):\n",
    "    for j in range(K_cent):\n",
    "        d = numpy.linalg.norm(cent[i] - cent[j])\n",
    "        if d > max:\n",
    "            max = d\n",
    "\n",
    "d = max\n",
    "sigma = d / math.sqrt(2 * K_cent)\n",
    "print(sigma)"
   ]
  },
  {
   "cell_type": "code",
   "execution_count": 44,
   "metadata": {},
   "outputs": [],
   "source": [
    "#x_train = x_train.to_numpy()\n",
    "#print(x_train)"
   ]
  },
  {
   "cell_type": "code",
   "execution_count": 28,
   "metadata": {},
   "outputs": [
    {
     "name": "stdout",
     "output_type": "stream",
     "text": [
      "[[0.20436256 0.20819233 0.65386682 ... 0.06824571 0.25146433 0.17443489]\n",
      " [0.82042934 0.46448348 0.31728335 ... 0.40036471 0.60208633 0.46462202]\n",
      " [0.65388819 0.50952988 0.3606011  ... 0.19929639 0.74285211 0.47018241]\n",
      " ...\n",
      " [0.34131986 0.3585863  0.24402377 ... 0.13919446 0.4512397  0.59540017]\n",
      " [0.47298751 0.69234573 0.28991046 ... 0.16993752 0.54943978 0.43520219]\n",
      " [0.7911709  0.50446032 0.3308206  ... 0.27781562 0.61145554 0.47271694]]\n"
     ]
    }
   ],
   "source": [
    "shape = x_train.shape\n",
    "row = shape[0]\n",
    "column = K_cent\n",
    "G = numpy.empty((row, column), dtype = float)\n",
    "for i in range(row):\n",
    "    for j in range(column):\n",
    "        dist = numpy.linalg.norm(x_train[i] - cent[j])\n",
    "        G[i][j] = math.exp(-math.pow(dist, 2) / math.pow(2 * sigma, 2))\n",
    "print(G)"
   ]
  },
  {
   "cell_type": "code",
   "execution_count": 29,
   "metadata": {},
   "outputs": [
    {
     "name": "stdout",
     "output_type": "stream",
     "text": [
      "[ 0.37048369 -0.14348252  0.27088798  0.22065522  0.08961704 -0.23122891\n",
      " -0.12235456 -0.0801078 ]\n"
     ]
    }
   ],
   "source": [
    "GTG = numpy.dot(G.T, G)\n",
    "GTG_inv = numpy.linalg.inv(GTG)\n",
    "fac = numpy.dot(GTG_inv, G.T)\n",
    "W = numpy.dot(fac, y_train)\n",
    "print(W)"
   ]
  },
  {
   "cell_type": "code",
   "execution_count": 37,
   "metadata": {},
   "outputs": [
    {
     "name": "stdout",
     "output_type": "stream",
     "text": [
      "[0.73694632 0.46976347 0.30593547 0.17656931 0.04743705 0.34945325\n",
      " 0.58466092 0.45993041]\n"
     ]
    }
   ],
   "source": [
    "row = x_test.shape[0]\n",
    "column = K_cent\n",
    "G_test = numpy.empty((row, column), dtype = float)\n",
    "for i in range(row):\n",
    "    for j in range(column):\n",
    "        #dist = numpy.linalg.norm(x_test.iloc[i] - cent[j])\n",
    "        dist = numpy.linalg.norm(x_test[i] - cent[j])\n",
    "        G_test[i][j] = math.exp(-math.pow(dist, 2) / math.pow(2 * sigma, 2))\n",
    "print(G_test[0])"
   ]
  },
  {
   "cell_type": "code",
   "execution_count": 41,
   "metadata": {},
   "outputs": [
    {
     "name": "stdout",
     "output_type": "stream",
     "text": [
      "0.8860479518711847\n"
     ]
    }
   ],
   "source": [
    "prediction = numpy.dot(G_test, W)\n",
    "prediction = 0.5 * (numpy.sign(prediction - 0.5) + 1)\n",
    "score = accuracy_score(prediction, y_test)\n",
    "print(score.mean())"
   ]
  },
  {
   "cell_type": "code",
   "execution_count": null,
   "metadata": {},
   "outputs": [],
   "source": []
  }
 ],
 "metadata": {
  "kernelspec": {
   "display_name": "Python 3 (ipykernel)",
   "language": "python",
   "name": "python3"
  },
  "language_info": {
   "codemirror_mode": {
    "name": "ipython",
    "version": 3
   },
   "file_extension": ".py",
   "mimetype": "text/x-python",
   "name": "python",
   "nbconvert_exporter": "python",
   "pygments_lexer": "ipython3",
   "version": "3.11.2"
  }
 },
 "nbformat": 4,
 "nbformat_minor": 4
}
