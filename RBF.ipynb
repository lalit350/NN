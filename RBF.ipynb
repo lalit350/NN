{
 "cells": [
  {
   "cell_type": "code",
   "execution_count": 22,
   "metadata": {},
   "outputs": [],
   "source": [
    "import math\n",
    "import pandas as pd\n",
    "from sklearn.preprocessing import LabelEncoder\n",
    "from sklearn.preprocessing import StandardScaler\n",
    "from sklearn.model_selection import train_test_split\n",
    "from sklearn.metrics import accuracy_score\n",
    "from sklearn.cluster import KMeans\n",
    "import numpy as numpy "
   ]
  },
  {
   "cell_type": "code",
   "execution_count": 23,
   "metadata": {},
   "outputs": [],
   "source": [
    "#Data = pd.read_csv(\"xor.csv\")\n",
    "#Data.head()\n",
    "\n",
    "Data= pd.read_csv(\"bank-full.csv\")\n",
    "cols= [\"age\",\"balance\",\"day\",\"duration\",\"campaign\",\"pdays\",\"previous\"]\n",
    "data_encode= Data.drop(cols, axis= 1)\n",
    "data_encode= data_encode.apply(LabelEncoder().fit_transform)\n",
    "data_rest= Data[cols]\n",
    "Data= pd.concat([data_rest,data_encode], axis= 1)"
   ]
  },
  {
   "cell_type": "code",
   "execution_count": 43,
   "metadata": {},
   "outputs": [],
   "source": [
    "data_train, data_test = train_test_split(Data, test_size = 0.5, random_state = 4)\n",
    "#data_train = Data\n",
    "#data_test = Data\n",
    "x_train = data_train.drop(\"y\", axis = 1)\n",
    "y_train = data_train[\"y\"]\n",
    "x_test = data_test.drop(\"y\", axis = 1)\n",
    "y_test = data_test[\"y\"]\n",
    "#x_train.head()\n",
    "\n",
    "scaler= StandardScaler()\n",
    "scaler.fit(x_train)\n",
    "x_train= scaler.transform(x_train)\n",
    "x_test= scaler.transform(x_test)"
   ]
  },
  {
   "cell_type": "code",
   "execution_count": 42,
   "metadata": {},
   "outputs": [],
   "source": [
    "#K_cent = 4\n",
    "K_cent = 8\n",
    "km = KMeans(n_clusters = K_cent, max_iter= 100)\n",
    "km.fit(x_train)\n",
    "cent = km.cluster_centers_"
   ]
  },
  {
   "cell_type": "code",
   "execution_count": 27,
   "metadata": {},
   "outputs": [
    {
     "name": "stdout",
     "output_type": "stream",
     "text": [
      "2.3008039704690626\n"
     ]
    }
   ],
   "source": [
    "max = 0\n",
    "for i in range(K_cent):\n",
    "    for j in range(K_cent):\n",
    "        d = numpy.linalg.norm(cent[i] - cent[j])\n",
    "        if d > max:\n",
    "            max = d\n",
    "\n",
    "d = max\n",
    "sigma = d / math.sqrt(2 * K_cent)\n",
    "print(sigma)"
   ]
  },
  {
   "cell_type": "code",
   "execution_count": 44,
   "metadata": {},
   "outputs": [],
   "source": [
    "#x_train = x_train.to_numpy()\n",
    "#print(x_train)"
   ]
  },
  {
   "cell_type": "code",
   "execution_count": 28,
   "metadata": {},
   "outputs": [
    {
     "name": "stdout",
     "output_type": "stream",
     "text": [
      "[[0.20436256 0.20819233 0.65386682 ... 0.06824571 0.25146433 0.17443489]\n",
      " [0.82042934 0.46448348 0.31728335 ... 0.40036471 0.60208633 0.46462202]\n",
      " [0.65388819 0.50952988 0.3606011  ... 0.19929639 0.74285211 0.47018241]\n",
      " ...\n",
      " [0.34131986 0.3585863  0.24402377 ... 0.13919446 0.4512397  0.59540017]\n",
      " [0.47298751 0.69234573 0.28991046 ... 0.16993752 0.54943978 0.43520219]\n",
      " [0.7911709  0.50446032 0.3308206  ... 0.27781562 0.61145554 0.47271694]]\n"
     ]
    }
   ],
   "source": [
    "shape = x_train.shape\n",
    "row = shape[0]\n",
    "column = K_cent\n",
    "G = numpy.empty((row, column), dtype = float)\n",
    "for i in range(row):\n",
    "    for j in range(column):\n",
    "        dist = numpy.linalg.norm(x_train[i] - cent[j])\n",
    "        G[i][j] = math.exp(-math.pow(dist, 2) / math.pow(2 * sigma, 2))\n",
    "print(G)"
   ]
  },
  {
   "cell_type": "code",
   "execution_count": 29,
   "metadata": {},
   "outputs": [
    {
     "name": "stdout",
     "output_type": "stream",
     "text": [
      "[ 0.37048369 -0.14348252  0.27088798  0.22065522  0.08961704 -0.23122891\n",
      " -0.12235456 -0.0801078 ]\n"
     ]
    }
   ],
   "source": [
    "GTG = numpy.dot(G.T, G)\n",
    "GTG_inv = numpy.linalg.inv(GTG)\n",
    "fac = numpy.dot(GTG_inv, G.T)\n",
    "W = numpy.dot(fac, y_train)\n",
    "print(W)"
   ]
  },
  {
   "cell_type": "code",
   "execution_count": 37,
   "metadata": {},
   "outputs": [
    {
     "name": "stdout",
     "output_type": "stream",
     "text": [
      "[0.73694632 0.46976347 0.30593547 0.17656931 0.04743705 0.34945325\n",
      " 0.58466092 0.45993041]\n"
     ]
    }
   ],
   "source": [
    "row = x_test.shape[0]\n",
    "column = K_cent\n",
    "G_test = numpy.empty((row, column), dtype = float)\n",
    "for i in range(row):\n",
    "    for j in range(column):\n",
    "        #dist = numpy.linalg.norm(x_test.iloc[i] - cent[j])\n",
    "        dist = numpy.linalg.norm(x_test[i] - cent[j])\n",
    "        G_test[i][j] = math.exp(-math.pow(dist, 2) / math.pow(2 * sigma, 2))\n",
    "print(G_test[0])"
   ]
  },
  {
   "cell_type": "code",
   "execution_count": 41,
   "metadata": {},
   "outputs": [
    {
     "name": "stdout",
     "output_type": "stream",
     "text": [
      "0.8860479518711847\n"
     ]
    }
   ],
   "source": [
    "prediction = numpy.dot(G_test, W)\n",
    "prediction = 0.5 * (numpy.sign(prediction - 0.5) + 1)\n",
    "score = accuracy_score(prediction, y_test)\n",
    "print(score.mean())"
   ]
  },
  {
   "cell_type": "code",
   "execution_count": null,
   "metadata": {},
   "outputs": [],
   "source": []
  }
 ],
 "metadata": {
  "kernelspec": {
   "display_name": "Python 3",
   "language": "python",
   "name": "python3"
  },
  "language_info": {
   "codemirror_mode": {
    "name": "ipython",
    "version": 3
   },
   "file_extension": ".py",
   "mimetype": "text/x-python",
   "name": "python",
   "nbconvert_exporter": "python",
   "pygments_lexer": "ipython3",
   "version": "3.8.8"
  }
 },
 "nbformat": 4,
 "nbformat_minor": 4
}
